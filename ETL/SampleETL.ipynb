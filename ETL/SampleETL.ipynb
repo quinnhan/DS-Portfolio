{
 "cells": [
  {
   "cell_type": "markdown",
   "metadata": {},
   "source": [
    "# Sample ETL skill"
   ]
  },
  {
   "cell_type": "code",
   "execution_count": 1,
   "metadata": {},
   "outputs": [],
   "source": [
    "import pandas as pd\n",
    "import sqlite3"
   ]
  },
  {
   "cell_type": "markdown",
   "metadata": {},
   "source": [
    "## Part 1: Reformat data for db inclusion\n",
    "\n",
    "Before creating your SQLite database, I need to clean/reformat data from several federal sources. All the data that you need is in `./..data/raw/`<sup id=\"a1\">[1](#f1)</sup>. Clean and reformat the data so that it can be included in the database. Only include data from 2017 onward.\n",
    "\n",
    "A simple SQLite database with the following tables:\n",
    "\n",
    "| table | file(s) | contains |\n",
    "|-------|----------------------|-|\n",
    "| district_race | schools_ccd_lea_enrollment_20* | The total number students of each race for each `year` and `leaid` |\n",
    "| district_grade| schools_ccd_lea_enrollment_20* | The total number students of each grade for each `year` and `leaid` |\n",
    "| district_sex | schools_ccd_lea_enrollment_20* | The total number students of each sex for each `year` and `leaid` |\n",
    "| district_finance | districts_ccd_finance.csv | All finance information you choose to include for each `year` and `leaid` |\n",
    "| district_testScores | districts_edfacts_assessments_20* | All test information you choose to include for each `year` and `leaid` |\n",
    "| district_population | districts_saipe.csv | All population information you choose to include for each `year` and `leaid` |\n",
    "\n",
    "<b id=\"f1\">1</b>: Download the data from our Google Drive [here](https://drive.google.com/drive/folders/1WToXvY0_oIKe7Ptq7VY6nz4fRi17U1Gu?usp=sharing) and place them in the `./../data/raw` directory manually. A dictionary to help you understand these files can be found [here](https://educationdata.urban.org/documentation/school-districts.html)."
   ]
  },
  {
   "cell_type": "code",
   "execution_count": 2,
   "metadata": {
    "tags": []
   },
   "outputs": [
    {
     "data": {
      "text/plain": [
       "['districts_ccd_finance.csv',\n",
       " 'districts_edfacts_assessments_2017.csv',\n",
       " 'districts_edfacts_assessments_2018.csv',\n",
       " 'districts_edfacts_assessments_2020.csv',\n",
       " 'districts_saipe.csv',\n",
       " 'schools_ccd_lea_enrollment_2017.csv',\n",
       " 'schools_ccd_lea_enrollment_2018.csv',\n",
       " 'schools_ccd_lea_enrollment_2019.csv',\n",
       " 'schools_ccd_lea_enrollment_2020.csv',\n",
       " 'schools_ccd_lea_enrollment_2021.csv',\n",
       " 'school_districts_lea_directory.csv']"
      ]
     },
     "execution_count": 2,
     "metadata": {},
     "output_type": "execute_result"
    }
   ],
   "source": [
    "### YOUR CODE HERE\n",
    "import os\n",
    "path = '../data/raw'\n",
    "files = os.listdir(path)\n",
    "files"
   ]
  },
  {
   "cell_type": "markdown",
   "metadata": {},
   "source": [
    "# Data Transformation\n",
    "\n",
    "### District Finance"
   ]
  },
  {
   "cell_type": "code",
   "execution_count": 3,
   "metadata": {
    "scrolled": true
   },
   "outputs": [
    {
     "data": {
      "text/html": [
       "<div>\n",
       "<style scoped>\n",
       "    .dataframe tbody tr th:only-of-type {\n",
       "        vertical-align: middle;\n",
       "    }\n",
       "\n",
       "    .dataframe tbody tr th {\n",
       "        vertical-align: top;\n",
       "    }\n",
       "\n",
       "    .dataframe thead th {\n",
       "        text-align: right;\n",
       "    }\n",
       "</style>\n",
       "<table border=\"1\" class=\"dataframe\">\n",
       "  <thead>\n",
       "    <tr style=\"text-align: right;\">\n",
       "      <th></th>\n",
       "      <th>column_name</th>\n",
       "      <th>missing_percentage</th>\n",
       "    </tr>\n",
       "  </thead>\n",
       "  <tbody>\n",
       "    <tr>\n",
       "      <th>0</th>\n",
       "      <td>year</td>\n",
       "      <td>0.000000</td>\n",
       "    </tr>\n",
       "    <tr>\n",
       "      <th>1</th>\n",
       "      <td>leaid</td>\n",
       "      <td>0.000000</td>\n",
       "    </tr>\n",
       "    <tr>\n",
       "      <th>2</th>\n",
       "      <td>rev_total</td>\n",
       "      <td>0.000000</td>\n",
       "    </tr>\n",
       "    <tr>\n",
       "      <th>3</th>\n",
       "      <td>rev_local_private_contrib</td>\n",
       "      <td>45.213334</td>\n",
       "    </tr>\n",
       "    <tr>\n",
       "      <th>4</th>\n",
       "      <td>exp_total</td>\n",
       "      <td>0.000000</td>\n",
       "    </tr>\n",
       "    <tr>\n",
       "      <th>5</th>\n",
       "      <td>outlay_capital_total</td>\n",
       "      <td>0.000000</td>\n",
       "    </tr>\n",
       "    <tr>\n",
       "      <th>6</th>\n",
       "      <td>enrollment_fall_responsible</td>\n",
       "      <td>0.013667</td>\n",
       "    </tr>\n",
       "    <tr>\n",
       "      <th>7</th>\n",
       "      <td>enrollment_fall_school</td>\n",
       "      <td>59.542745</td>\n",
       "    </tr>\n",
       "  </tbody>\n",
       "</table>\n",
       "</div>"
      ],
      "text/plain": [
       "                   column_name  missing_percentage\n",
       "0                         year            0.000000\n",
       "1                        leaid            0.000000\n",
       "2                    rev_total            0.000000\n",
       "3    rev_local_private_contrib           45.213334\n",
       "4                    exp_total            0.000000\n",
       "5         outlay_capital_total            0.000000\n",
       "6  enrollment_fall_responsible            0.013667\n",
       "7       enrollment_fall_school           59.542745"
      ]
     },
     "execution_count": 3,
     "metadata": {},
     "output_type": "execute_result"
    }
   ],
   "source": [
    "# Feature of interests\n",
    "col_interests = ['year', 'leaid', 'rev_local_private_contrib','rev_total','exp_total'\n",
    "                 ,'outlay_capital_total', 'enrollment_fall_responsible','enrollment_fall_school']\n",
    "\n",
    "# Load data\n",
    "full_df = pd.read_csv(path + '/districts_ccd_finance.csv', dtype={'leaid':'str'})\n",
    "df = pd.read_csv(path + '/districts_ccd_finance.csv', usecols = col_interests, dtype={'leaid':'str'})\n",
    "\n",
    "# Calculate percentage of missing values in each column\n",
    "missing_values = df.isnull().mean() * 100\n",
    "\n",
    "# Create a new DataFrame with column names and their respective missing value percentages\n",
    "missing_df = pd.DataFrame({'column_name': missing_values.index, 'missing_percentage': missing_values.values})\n",
    "\n",
    "# Missing Values Pct\n",
    "missing_df"
   ]
  },
  {
   "cell_type": "code",
   "execution_count": 4,
   "metadata": {},
   "outputs": [
    {
     "data": {
      "text/plain": [
       "array([1989, 1991, 1994, 1995, 1996, 1997, 1998, 1999, 2000, 2001, 2002,\n",
       "       2003, 2004, 2005, 2006, 2007, 2008, 2009, 2010, 2011, 2012, 2013,\n",
       "       2014, 2015, 2016, 2017, 2018], dtype=int64)"
      ]
     },
     "execution_count": 4,
     "metadata": {},
     "output_type": "execute_result"
    }
   ],
   "source": [
    "df['year'].unique()"
   ]
  },
  {
   "cell_type": "code",
   "execution_count": 5,
   "metadata": {
    "scrolled": true
   },
   "outputs": [
    {
     "name": "stdout",
     "output_type": "stream",
     "text": [
      "Number of null values: 208419\n",
      "Number of zeros: 127934\n",
      "Number of special values: 17157\n"
     ]
    }
   ],
   "source": [
    "# Handling missing values in 'rev_local_private_contrib'\n",
    "null_vals = df['rev_local_private_contrib'].isnull().sum()\n",
    "print(f'Number of null values: {null_vals}')\n",
    "zero_vals = df[df['rev_local_private_contrib'] == 0]['leaid'].count()\n",
    "other_special_vals = df[df['rev_local_private_contrib'] < 0]['leaid'].count()\n",
    "print(f'Number of zeros: {zero_vals}')\n",
    "print(f'Number of special values: {other_special_vals}')"
   ]
  },
  {
   "cell_type": "code",
   "execution_count": 6,
   "metadata": {},
   "outputs": [],
   "source": [
    "# Fill null with 0 and replace anything less than 0 with 0\n",
    "df['rev_local_private_contrib'] = df['rev_local_private_contrib'].fillna(0)\n",
    "df['rev_local_private_contrib'] = df['rev_local_private_contrib'].clip(lower = 0)\n",
    "df['rev_total'] = df['rev_total'].clip(lower = 0)"
   ]
  },
  {
   "cell_type": "code",
   "execution_count": 7,
   "metadata": {},
   "outputs": [
    {
     "data": {
      "text/plain": [
       "274536"
      ]
     },
     "execution_count": 7,
     "metadata": {},
     "output_type": "execute_result"
    }
   ],
   "source": [
    "# Last check for null values\n",
    "df.isnull().sum().sum()"
   ]
  },
  {
   "cell_type": "code",
   "execution_count": 8,
   "metadata": {},
   "outputs": [
    {
     "name": "stdout",
     "output_type": "stream",
     "text": [
      "There are 139 duplicated rows in the sub df\n",
      "There are 0 duplicated rows in the full df\n"
     ]
    }
   ],
   "source": [
    "# Check for duplicate\n",
    "print(f'There are {df.duplicated().sum()} duplicated rows in the sub df')\n",
    "print(f'There are {full_df.duplicated().sum()} duplicated rows in the full df')"
   ]
  },
  {
   "cell_type": "markdown",
   "metadata": {},
   "source": [
    "There are 216 duplicated rows in the small df and there are no duplications in the full dataset so these duplication is not true duplication. \n",
    "\n",
    "The data dictionary has indicated there are records with missing/not reported (-1) and not applicable data (-2). I am going to combine their revenue and rev_local_private_contrib into id '0000000'"
   ]
  },
  {
   "cell_type": "code",
   "execution_count": 9,
   "metadata": {},
   "outputs": [
    {
     "data": {
      "text/html": [
       "<div>\n",
       "<style scoped>\n",
       "    .dataframe tbody tr th:only-of-type {\n",
       "        vertical-align: middle;\n",
       "    }\n",
       "\n",
       "    .dataframe tbody tr th {\n",
       "        vertical-align: top;\n",
       "    }\n",
       "\n",
       "    .dataframe thead th {\n",
       "        text-align: right;\n",
       "    }\n",
       "</style>\n",
       "<table border=\"1\" class=\"dataframe\">\n",
       "  <thead>\n",
       "    <tr style=\"text-align: right;\">\n",
       "      <th></th>\n",
       "      <th>year</th>\n",
       "      <th>leaid</th>\n",
       "      <th>rev_total</th>\n",
       "      <th>rev_local_private_contrib</th>\n",
       "      <th>num_district</th>\n",
       "      <th>exp_total</th>\n",
       "      <th>outlay_capital_total</th>\n",
       "      <th>enrollment_fall_responsible</th>\n",
       "      <th>enrollment_fall_school</th>\n",
       "    </tr>\n",
       "  </thead>\n",
       "  <tbody>\n",
       "    <tr>\n",
       "      <th>0</th>\n",
       "      <td>1989</td>\n",
       "      <td>0000000</td>\n",
       "      <td>663678000.0</td>\n",
       "      <td>0.0</td>\n",
       "      <td>114</td>\n",
       "      <td>657718000.0</td>\n",
       "      <td>41057000.0</td>\n",
       "      <td>37150.0</td>\n",
       "      <td>0.0</td>\n",
       "    </tr>\n",
       "    <tr>\n",
       "      <th>1</th>\n",
       "      <td>1989</td>\n",
       "      <td>0100005</td>\n",
       "      <td>12933000.0</td>\n",
       "      <td>0.0</td>\n",
       "      <td>1</td>\n",
       "      <td>11703000.0</td>\n",
       "      <td>1570000.0</td>\n",
       "      <td>3120.0</td>\n",
       "      <td>0.0</td>\n",
       "    </tr>\n",
       "    <tr>\n",
       "      <th>2</th>\n",
       "      <td>1989</td>\n",
       "      <td>0100006</td>\n",
       "      <td>19699000.0</td>\n",
       "      <td>0.0</td>\n",
       "      <td>1</td>\n",
       "      <td>22140000.0</td>\n",
       "      <td>3734000.0</td>\n",
       "      <td>5511.0</td>\n",
       "      <td>0.0</td>\n",
       "    </tr>\n",
       "    <tr>\n",
       "      <th>3</th>\n",
       "      <td>1989</td>\n",
       "      <td>0100007</td>\n",
       "      <td>25090000.0</td>\n",
       "      <td>0.0</td>\n",
       "      <td>1</td>\n",
       "      <td>31101000.0</td>\n",
       "      <td>5618000.0</td>\n",
       "      <td>5879.0</td>\n",
       "      <td>0.0</td>\n",
       "    </tr>\n",
       "    <tr>\n",
       "      <th>4</th>\n",
       "      <td>1989</td>\n",
       "      <td>0100030</td>\n",
       "      <td>12431000.0</td>\n",
       "      <td>0.0</td>\n",
       "      <td>1</td>\n",
       "      <td>12079000.0</td>\n",
       "      <td>979000.0</td>\n",
       "      <td>3797.0</td>\n",
       "      <td>0.0</td>\n",
       "    </tr>\n",
       "    <tr>\n",
       "      <th>...</th>\n",
       "      <td>...</td>\n",
       "      <td>...</td>\n",
       "      <td>...</td>\n",
       "      <td>...</td>\n",
       "      <td>...</td>\n",
       "      <td>...</td>\n",
       "      <td>...</td>\n",
       "      <td>...</td>\n",
       "      <td>...</td>\n",
       "    </tr>\n",
       "    <tr>\n",
       "      <th>459301</th>\n",
       "      <td>2018</td>\n",
       "      <td>5680252</td>\n",
       "      <td>0.0</td>\n",
       "      <td>0.0</td>\n",
       "      <td>1</td>\n",
       "      <td>-2.0</td>\n",
       "      <td>-2.0</td>\n",
       "      <td>34.0</td>\n",
       "      <td>34.0</td>\n",
       "    </tr>\n",
       "    <tr>\n",
       "      <th>459302</th>\n",
       "      <td>2018</td>\n",
       "      <td>5680253</td>\n",
       "      <td>0.0</td>\n",
       "      <td>0.0</td>\n",
       "      <td>1</td>\n",
       "      <td>-2.0</td>\n",
       "      <td>-2.0</td>\n",
       "      <td>0.0</td>\n",
       "      <td>0.0</td>\n",
       "    </tr>\n",
       "    <tr>\n",
       "      <th>459303</th>\n",
       "      <td>2018</td>\n",
       "      <td>5680254</td>\n",
       "      <td>0.0</td>\n",
       "      <td>0.0</td>\n",
       "      <td>1</td>\n",
       "      <td>-2.0</td>\n",
       "      <td>-2.0</td>\n",
       "      <td>240.0</td>\n",
       "      <td>240.0</td>\n",
       "    </tr>\n",
       "    <tr>\n",
       "      <th>459304</th>\n",
       "      <td>2018</td>\n",
       "      <td>5680255</td>\n",
       "      <td>0.0</td>\n",
       "      <td>0.0</td>\n",
       "      <td>1</td>\n",
       "      <td>-2.0</td>\n",
       "      <td>-2.0</td>\n",
       "      <td>29.0</td>\n",
       "      <td>29.0</td>\n",
       "    </tr>\n",
       "    <tr>\n",
       "      <th>459305</th>\n",
       "      <td>2018</td>\n",
       "      <td>5680256</td>\n",
       "      <td>0.0</td>\n",
       "      <td>0.0</td>\n",
       "      <td>1</td>\n",
       "      <td>-2.0</td>\n",
       "      <td>-2.0</td>\n",
       "      <td>0.0</td>\n",
       "      <td>0.0</td>\n",
       "    </tr>\n",
       "  </tbody>\n",
       "</table>\n",
       "<p>459306 rows × 9 columns</p>\n",
       "</div>"
      ],
      "text/plain": [
       "        year    leaid    rev_total  rev_local_private_contrib  num_district  \\\n",
       "0       1989  0000000  663678000.0                        0.0           114   \n",
       "1       1989  0100005   12933000.0                        0.0             1   \n",
       "2       1989  0100006   19699000.0                        0.0             1   \n",
       "3       1989  0100007   25090000.0                        0.0             1   \n",
       "4       1989  0100030   12431000.0                        0.0             1   \n",
       "...      ...      ...          ...                        ...           ...   \n",
       "459301  2018  5680252          0.0                        0.0             1   \n",
       "459302  2018  5680253          0.0                        0.0             1   \n",
       "459303  2018  5680254          0.0                        0.0             1   \n",
       "459304  2018  5680255          0.0                        0.0             1   \n",
       "459305  2018  5680256          0.0                        0.0             1   \n",
       "\n",
       "          exp_total  outlay_capital_total  enrollment_fall_responsible  \\\n",
       "0       657718000.0            41057000.0                      37150.0   \n",
       "1        11703000.0             1570000.0                       3120.0   \n",
       "2        22140000.0             3734000.0                       5511.0   \n",
       "3        31101000.0             5618000.0                       5879.0   \n",
       "4        12079000.0              979000.0                       3797.0   \n",
       "...             ...                   ...                          ...   \n",
       "459301         -2.0                  -2.0                         34.0   \n",
       "459302         -2.0                  -2.0                          0.0   \n",
       "459303         -2.0                  -2.0                        240.0   \n",
       "459304         -2.0                  -2.0                         29.0   \n",
       "459305         -2.0                  -2.0                          0.0   \n",
       "\n",
       "        enrollment_fall_school  \n",
       "0                          0.0  \n",
       "1                          0.0  \n",
       "2                          0.0  \n",
       "3                          0.0  \n",
       "4                          0.0  \n",
       "...                        ...  \n",
       "459301                    34.0  \n",
       "459302                     0.0  \n",
       "459303                   240.0  \n",
       "459304                    29.0  \n",
       "459305                     0.0  \n",
       "\n",
       "[459306 rows x 9 columns]"
      ]
     },
     "execution_count": 9,
     "metadata": {},
     "output_type": "execute_result"
    }
   ],
   "source": [
    "# Add column that count number of districts\n",
    "df['num_district'] = 1\n",
    "\n",
    "# Change non-specified id to generic value\n",
    "df['leaid'] = df['leaid'].replace(['-1','-2','-3'],'0000000')\n",
    "\n",
    "#Combine total_rev and rev_local_private_contrib\n",
    "df = df.groupby(['year','leaid']).agg({'rev_total':'sum',\n",
    "                                       'rev_local_private_contrib':'sum', \n",
    "                                       'num_district' :'sum',\n",
    "                                       'exp_total':'sum',\n",
    "                                       'outlay_capital_total':'sum', \n",
    "                                       'enrollment_fall_responsible':'sum',\n",
    "                                       'enrollment_fall_school':'sum'})\n",
    "df = df.reset_index()\n",
    "df"
   ]
  },
  {
   "cell_type": "code",
   "execution_count": 10,
   "metadata": {},
   "outputs": [],
   "source": [
    "# Export the DataFrame to a CSV file\n",
    "df.to_csv('../data/derived/districts_ccd_finance_transformed.csv', index=False)"
   ]
  },
  {
   "cell_type": "markdown",
   "metadata": {},
   "source": [
    "## District Race, Grade, Gender "
   ]
  },
  {
   "cell_type": "code",
   "execution_count": 11,
   "metadata": {
    "scrolled": true
   },
   "outputs": [
    {
     "data": {
      "text/html": [
       "<div>\n",
       "<style scoped>\n",
       "    .dataframe tbody tr th:only-of-type {\n",
       "        vertical-align: middle;\n",
       "    }\n",
       "\n",
       "    .dataframe tbody tr th {\n",
       "        vertical-align: top;\n",
       "    }\n",
       "\n",
       "    .dataframe thead th {\n",
       "        text-align: right;\n",
       "    }\n",
       "</style>\n",
       "<table border=\"1\" class=\"dataframe\">\n",
       "  <thead>\n",
       "    <tr style=\"text-align: right;\">\n",
       "      <th></th>\n",
       "      <th>year</th>\n",
       "      <th>leaid</th>\n",
       "      <th>fips</th>\n",
       "      <th>grade</th>\n",
       "      <th>race</th>\n",
       "      <th>sex</th>\n",
       "      <th>enrollment</th>\n",
       "    </tr>\n",
       "  </thead>\n",
       "  <tbody>\n",
       "    <tr>\n",
       "      <th>0</th>\n",
       "      <td>2017</td>\n",
       "      <td>0100002</td>\n",
       "      <td>1</td>\n",
       "      <td>10</td>\n",
       "      <td>5</td>\n",
       "      <td>2</td>\n",
       "      <td>NaN</td>\n",
       "    </tr>\n",
       "    <tr>\n",
       "      <th>1</th>\n",
       "      <td>2017</td>\n",
       "      <td>0100002</td>\n",
       "      <td>1</td>\n",
       "      <td>10</td>\n",
       "      <td>5</td>\n",
       "      <td>1</td>\n",
       "      <td>NaN</td>\n",
       "    </tr>\n",
       "    <tr>\n",
       "      <th>2</th>\n",
       "      <td>2017</td>\n",
       "      <td>0100002</td>\n",
       "      <td>1</td>\n",
       "      <td>10</td>\n",
       "      <td>4</td>\n",
       "      <td>2</td>\n",
       "      <td>NaN</td>\n",
       "    </tr>\n",
       "    <tr>\n",
       "      <th>3</th>\n",
       "      <td>2017</td>\n",
       "      <td>0100002</td>\n",
       "      <td>1</td>\n",
       "      <td>10</td>\n",
       "      <td>4</td>\n",
       "      <td>1</td>\n",
       "      <td>NaN</td>\n",
       "    </tr>\n",
       "    <tr>\n",
       "      <th>4</th>\n",
       "      <td>2017</td>\n",
       "      <td>0100002</td>\n",
       "      <td>1</td>\n",
       "      <td>10</td>\n",
       "      <td>2</td>\n",
       "      <td>2</td>\n",
       "      <td>NaN</td>\n",
       "    </tr>\n",
       "  </tbody>\n",
       "</table>\n",
       "</div>"
      ],
      "text/plain": [
       "   year    leaid  fips  grade  race  sex  enrollment\n",
       "0  2017  0100002     1     10     5    2         NaN\n",
       "1  2017  0100002     1     10     5    1         NaN\n",
       "2  2017  0100002     1     10     4    2         NaN\n",
       "3  2017  0100002     1     10     4    1         NaN\n",
       "4  2017  0100002     1     10     2    2         NaN"
      ]
     },
     "execution_count": 11,
     "metadata": {},
     "output_type": "execute_result"
    }
   ],
   "source": [
    "import re\n",
    "\n",
    "# Get all files\n",
    "pattern = re.compile(r'^schools_ccd_lea_enrollment_20')\n",
    "file_names = [file for file in files if re.match(pattern, file)]\n",
    "\n",
    "# Read all files into a DataFrame\n",
    "df_rgg = []\n",
    "for file in file_names:\n",
    "    f = pd.read_csv(path+'/'+file, dtype={'leaid':'str'})\n",
    "    df_rgg.append(f)\n",
    "df_rgg = pd.concat(df_rgg, ignore_index = True)\n",
    "df_rgg.head()"
   ]
  },
  {
   "cell_type": "code",
   "execution_count": 12,
   "metadata": {},
   "outputs": [
    {
     "name": "stdout",
     "output_type": "stream",
     "text": [
      "<class 'pandas.core.frame.DataFrame'>\n",
      "RangeIndex: 31856877 entries, 0 to 31856876\n",
      "Data columns (total 7 columns):\n",
      " #   Column      Dtype  \n",
      "---  ------      -----  \n",
      " 0   year        int64  \n",
      " 1   leaid       object \n",
      " 2   fips        int64  \n",
      " 3   grade       int64  \n",
      " 4   race        int64  \n",
      " 5   sex         int64  \n",
      " 6   enrollment  float64\n",
      "dtypes: float64(1), int64(5), object(1)\n",
      "memory usage: 1.7+ GB\n"
     ]
    }
   ],
   "source": [
    "df_rgg.info()"
   ]
  },
  {
   "cell_type": "code",
   "execution_count": 13,
   "metadata": {
    "scrolled": true
   },
   "outputs": [
    {
     "name": "stdout",
     "output_type": "stream",
     "text": [
      "Total null values: 4619228\n",
      "Percentage of null values in each feature\n"
     ]
    },
    {
     "data": {
      "text/plain": [
       "year           0.00000\n",
       "leaid          0.00000\n",
       "fips           0.00000\n",
       "grade          0.00000\n",
       "race           0.00000\n",
       "sex            0.00000\n",
       "enrollment    14.49994\n",
       "dtype: float64"
      ]
     },
     "execution_count": 13,
     "metadata": {},
     "output_type": "execute_result"
    }
   ],
   "source": [
    "# Check for null values\n",
    "print(f'Total null values: {df_rgg.isna().sum().sum()}')\n",
    "\n",
    "print('Percentage of null values in each feature')\n",
    "df_rgg.isna().mean() * 100"
   ]
  },
  {
   "cell_type": "code",
   "execution_count": 14,
   "metadata": {
    "scrolled": true
   },
   "outputs": [
    {
     "data": {
      "text/html": [
       "<div>\n",
       "<style scoped>\n",
       "    .dataframe tbody tr th:only-of-type {\n",
       "        vertical-align: middle;\n",
       "    }\n",
       "\n",
       "    .dataframe tbody tr th {\n",
       "        vertical-align: top;\n",
       "    }\n",
       "\n",
       "    .dataframe thead th {\n",
       "        text-align: right;\n",
       "    }\n",
       "</style>\n",
       "<table border=\"1\" class=\"dataframe\">\n",
       "  <thead>\n",
       "    <tr style=\"text-align: right;\">\n",
       "      <th></th>\n",
       "      <th>year</th>\n",
       "      <th>leaid</th>\n",
       "      <th>fips</th>\n",
       "      <th>grade</th>\n",
       "      <th>race</th>\n",
       "      <th>sex</th>\n",
       "      <th>enrollment</th>\n",
       "    </tr>\n",
       "  </thead>\n",
       "  <tbody>\n",
       "    <tr>\n",
       "      <th>0</th>\n",
       "      <td>2017</td>\n",
       "      <td>0100002</td>\n",
       "      <td>1</td>\n",
       "      <td>10</td>\n",
       "      <td>5</td>\n",
       "      <td>2</td>\n",
       "      <td>0.0</td>\n",
       "    </tr>\n",
       "    <tr>\n",
       "      <th>1</th>\n",
       "      <td>2017</td>\n",
       "      <td>0100002</td>\n",
       "      <td>1</td>\n",
       "      <td>10</td>\n",
       "      <td>5</td>\n",
       "      <td>1</td>\n",
       "      <td>0.0</td>\n",
       "    </tr>\n",
       "    <tr>\n",
       "      <th>2</th>\n",
       "      <td>2017</td>\n",
       "      <td>0100002</td>\n",
       "      <td>1</td>\n",
       "      <td>10</td>\n",
       "      <td>4</td>\n",
       "      <td>2</td>\n",
       "      <td>0.0</td>\n",
       "    </tr>\n",
       "    <tr>\n",
       "      <th>3</th>\n",
       "      <td>2017</td>\n",
       "      <td>0100002</td>\n",
       "      <td>1</td>\n",
       "      <td>10</td>\n",
       "      <td>4</td>\n",
       "      <td>1</td>\n",
       "      <td>0.0</td>\n",
       "    </tr>\n",
       "    <tr>\n",
       "      <th>4</th>\n",
       "      <td>2017</td>\n",
       "      <td>0100002</td>\n",
       "      <td>1</td>\n",
       "      <td>10</td>\n",
       "      <td>2</td>\n",
       "      <td>2</td>\n",
       "      <td>0.0</td>\n",
       "    </tr>\n",
       "    <tr>\n",
       "      <th>...</th>\n",
       "      <td>...</td>\n",
       "      <td>...</td>\n",
       "      <td>...</td>\n",
       "      <td>...</td>\n",
       "      <td>...</td>\n",
       "      <td>...</td>\n",
       "      <td>...</td>\n",
       "    </tr>\n",
       "    <tr>\n",
       "      <th>31856872</th>\n",
       "      <td>2021</td>\n",
       "      <td>7800030</td>\n",
       "      <td>78</td>\n",
       "      <td>99</td>\n",
       "      <td>4</td>\n",
       "      <td>99</td>\n",
       "      <td>59.0</td>\n",
       "    </tr>\n",
       "    <tr>\n",
       "      <th>31856873</th>\n",
       "      <td>2021</td>\n",
       "      <td>7800030</td>\n",
       "      <td>78</td>\n",
       "      <td>99</td>\n",
       "      <td>5</td>\n",
       "      <td>99</td>\n",
       "      <td>8.0</td>\n",
       "    </tr>\n",
       "    <tr>\n",
       "      <th>31856874</th>\n",
       "      <td>2021</td>\n",
       "      <td>7800030</td>\n",
       "      <td>78</td>\n",
       "      <td>99</td>\n",
       "      <td>6</td>\n",
       "      <td>99</td>\n",
       "      <td>1.0</td>\n",
       "    </tr>\n",
       "    <tr>\n",
       "      <th>31856875</th>\n",
       "      <td>2021</td>\n",
       "      <td>7800030</td>\n",
       "      <td>78</td>\n",
       "      <td>99</td>\n",
       "      <td>7</td>\n",
       "      <td>99</td>\n",
       "      <td>18.0</td>\n",
       "    </tr>\n",
       "    <tr>\n",
       "      <th>31856876</th>\n",
       "      <td>2021</td>\n",
       "      <td>7800030</td>\n",
       "      <td>78</td>\n",
       "      <td>99</td>\n",
       "      <td>9</td>\n",
       "      <td>99</td>\n",
       "      <td>0.0</td>\n",
       "    </tr>\n",
       "  </tbody>\n",
       "</table>\n",
       "<p>31856877 rows × 7 columns</p>\n",
       "</div>"
      ],
      "text/plain": [
       "          year    leaid  fips  grade  race  sex  enrollment\n",
       "0         2017  0100002     1     10     5    2         0.0\n",
       "1         2017  0100002     1     10     5    1         0.0\n",
       "2         2017  0100002     1     10     4    2         0.0\n",
       "3         2017  0100002     1     10     4    1         0.0\n",
       "4         2017  0100002     1     10     2    2         0.0\n",
       "...        ...      ...   ...    ...   ...  ...         ...\n",
       "31856872  2021  7800030    78     99     4   99        59.0\n",
       "31856873  2021  7800030    78     99     5   99         8.0\n",
       "31856874  2021  7800030    78     99     6   99         1.0\n",
       "31856875  2021  7800030    78     99     7   99        18.0\n",
       "31856876  2021  7800030    78     99     9   99         0.0\n",
       "\n",
       "[31856877 rows x 7 columns]"
      ]
     },
     "execution_count": 14,
     "metadata": {},
     "output_type": "execute_result"
    }
   ],
   "source": [
    "# mean enrollment by year, leaid, grade, race, sex\n",
    "mean_enrollment = df_rgg.groupby(['year','leaid', 'grade','race'])['enrollment'].mean().reset_index()\n",
    "\n",
    "# Merge the mean enrollment values back into the original DataFrame\n",
    "df_rgg = pd.merge(df_rgg, mean_enrollment, on=['year','leaid','grade','race'], how='left', suffixes=('', '_mean'))\n",
    "\n",
    "# Fill missing Enrollment values with the mean values\n",
    "df_rgg['enrollment'] = df_rgg['enrollment'].fillna(df_rgg['enrollment_mean'].astype(int))\n",
    "\n",
    "# Drop the temporary mean enrollment column\n",
    "df_rgg = df_rgg.drop(columns=['enrollment_mean'])\n",
    "\n",
    "df_rgg"
   ]
  },
  {
   "cell_type": "code",
   "execution_count": 15,
   "metadata": {},
   "outputs": [
    {
     "data": {
      "text/plain": [
       "0"
      ]
     },
     "execution_count": 15,
     "metadata": {},
     "output_type": "execute_result"
    }
   ],
   "source": [
    "df_rgg.isna().sum().sum()"
   ]
  },
  {
   "cell_type": "code",
   "execution_count": 16,
   "metadata": {},
   "outputs": [
    {
     "name": "stdout",
     "output_type": "stream",
     "text": [
      "Number of district where enrollment value is not valid: 0\n"
     ]
    }
   ],
   "source": [
    "## Count rows where enrollment is -1,-2,-3\n",
    "special_val_count = df_rgg[df_rgg['enrollment'] < 0]['leaid'].count()\n",
    "print(f'Number of district where enrollment value is not valid: {special_val_count}')"
   ]
  },
  {
   "cell_type": "code",
   "execution_count": 17,
   "metadata": {},
   "outputs": [
    {
     "data": {
      "text/plain": [
       "0"
      ]
     },
     "execution_count": 17,
     "metadata": {},
     "output_type": "execute_result"
    }
   ],
   "source": [
    "# Check for duplication\n",
    "df_rgg.duplicated().sum()"
   ]
  },
  {
   "cell_type": "code",
   "execution_count": 18,
   "metadata": {},
   "outputs": [],
   "source": [
    "# Export transformed data to csv\n",
    "district_race_df = df_rgg.groupby(['year','leaid','race'])['enrollment'].sum().reset_index()\n",
    "district_race_df.to_csv('../data/derived/districts_race_transformed.csv', index=False)\n",
    "\n",
    "district_grade_df = df_rgg.groupby(['year','leaid','grade'])['enrollment'].sum().reset_index()\n",
    "district_grade_df.to_csv('../data/derived/districts_grade_transformed.csv', index=False)\n",
    "\n",
    "district_sex_df = df_rgg.groupby(['year','leaid','sex'])['enrollment'].sum().reset_index()\n",
    "district_sex_df.to_csv('../data/derived/districts_sex_transformed.csv', index=False)"
   ]
  },
  {
   "cell_type": "markdown",
   "metadata": {},
   "source": [
    "## Test Score"
   ]
  },
  {
   "cell_type": "code",
   "execution_count": 19,
   "metadata": {
    "scrolled": true
   },
   "outputs": [
    {
     "data": {
      "text/html": [
       "<div>\n",
       "<style scoped>\n",
       "    .dataframe tbody tr th:only-of-type {\n",
       "        vertical-align: middle;\n",
       "    }\n",
       "\n",
       "    .dataframe tbody tr th {\n",
       "        vertical-align: top;\n",
       "    }\n",
       "\n",
       "    .dataframe thead th {\n",
       "        text-align: right;\n",
       "    }\n",
       "</style>\n",
       "<table border=\"1\" class=\"dataframe\">\n",
       "  <thead>\n",
       "    <tr style=\"text-align: right;\">\n",
       "      <th></th>\n",
       "      <th>leaid_num</th>\n",
       "      <th>leaid</th>\n",
       "      <th>year</th>\n",
       "      <th>lea_name</th>\n",
       "      <th>fips</th>\n",
       "      <th>grade_edfacts</th>\n",
       "      <th>race</th>\n",
       "      <th>sex</th>\n",
       "      <th>lep</th>\n",
       "      <th>homeless</th>\n",
       "      <th>...</th>\n",
       "      <th>foster_care</th>\n",
       "      <th>military_connected</th>\n",
       "      <th>read_test_num_valid</th>\n",
       "      <th>read_test_pct_prof_low</th>\n",
       "      <th>read_test_pct_prof_high</th>\n",
       "      <th>read_test_pct_prof_midpt</th>\n",
       "      <th>math_test_num_valid</th>\n",
       "      <th>math_test_pct_prof_low</th>\n",
       "      <th>math_test_pct_prof_high</th>\n",
       "      <th>math_test_pct_prof_midpt</th>\n",
       "    </tr>\n",
       "  </thead>\n",
       "  <tbody>\n",
       "    <tr>\n",
       "      <th>0</th>\n",
       "      <td>100005</td>\n",
       "      <td>0100005</td>\n",
       "      <td>2017</td>\n",
       "      <td>Albertville City</td>\n",
       "      <td>1</td>\n",
       "      <td>99</td>\n",
       "      <td>99</td>\n",
       "      <td>99</td>\n",
       "      <td>99</td>\n",
       "      <td>99</td>\n",
       "      <td>...</td>\n",
       "      <td>99</td>\n",
       "      <td>99</td>\n",
       "      <td>2885.0</td>\n",
       "      <td>38.0</td>\n",
       "      <td>38.0</td>\n",
       "      <td>38.0</td>\n",
       "      <td>2892.0</td>\n",
       "      <td>45.0</td>\n",
       "      <td>45.0</td>\n",
       "      <td>45.0</td>\n",
       "    </tr>\n",
       "    <tr>\n",
       "      <th>1</th>\n",
       "      <td>100005</td>\n",
       "      <td>0100005</td>\n",
       "      <td>2017</td>\n",
       "      <td>Albertville City</td>\n",
       "      <td>1</td>\n",
       "      <td>99</td>\n",
       "      <td>5</td>\n",
       "      <td>99</td>\n",
       "      <td>99</td>\n",
       "      <td>99</td>\n",
       "      <td>...</td>\n",
       "      <td>99</td>\n",
       "      <td>99</td>\n",
       "      <td>5.0</td>\n",
       "      <td>-3.0</td>\n",
       "      <td>-3.0</td>\n",
       "      <td>-3.0</td>\n",
       "      <td>5.0</td>\n",
       "      <td>-3.0</td>\n",
       "      <td>-3.0</td>\n",
       "      <td>-3.0</td>\n",
       "    </tr>\n",
       "    <tr>\n",
       "      <th>2</th>\n",
       "      <td>100005</td>\n",
       "      <td>0100005</td>\n",
       "      <td>2017</td>\n",
       "      <td>Albertville City</td>\n",
       "      <td>1</td>\n",
       "      <td>99</td>\n",
       "      <td>4</td>\n",
       "      <td>99</td>\n",
       "      <td>99</td>\n",
       "      <td>99</td>\n",
       "      <td>...</td>\n",
       "      <td>99</td>\n",
       "      <td>99</td>\n",
       "      <td>18.0</td>\n",
       "      <td>40.0</td>\n",
       "      <td>59.0</td>\n",
       "      <td>49.5</td>\n",
       "      <td>18.0</td>\n",
       "      <td>60.0</td>\n",
       "      <td>79.0</td>\n",
       "      <td>69.5</td>\n",
       "    </tr>\n",
       "    <tr>\n",
       "      <th>3</th>\n",
       "      <td>100005</td>\n",
       "      <td>0100005</td>\n",
       "      <td>2017</td>\n",
       "      <td>Albertville City</td>\n",
       "      <td>1</td>\n",
       "      <td>99</td>\n",
       "      <td>2</td>\n",
       "      <td>99</td>\n",
       "      <td>99</td>\n",
       "      <td>99</td>\n",
       "      <td>...</td>\n",
       "      <td>99</td>\n",
       "      <td>99</td>\n",
       "      <td>98.0</td>\n",
       "      <td>30.0</td>\n",
       "      <td>34.0</td>\n",
       "      <td>32.0</td>\n",
       "      <td>98.0</td>\n",
       "      <td>30.0</td>\n",
       "      <td>34.0</td>\n",
       "      <td>32.0</td>\n",
       "    </tr>\n",
       "    <tr>\n",
       "      <th>4</th>\n",
       "      <td>100005</td>\n",
       "      <td>0100005</td>\n",
       "      <td>2017</td>\n",
       "      <td>Albertville City</td>\n",
       "      <td>1</td>\n",
       "      <td>99</td>\n",
       "      <td>99</td>\n",
       "      <td>99</td>\n",
       "      <td>99</td>\n",
       "      <td>99</td>\n",
       "      <td>...</td>\n",
       "      <td>99</td>\n",
       "      <td>99</td>\n",
       "      <td>197.0</td>\n",
       "      <td>15.0</td>\n",
       "      <td>19.0</td>\n",
       "      <td>17.0</td>\n",
       "      <td>196.0</td>\n",
       "      <td>15.0</td>\n",
       "      <td>19.0</td>\n",
       "      <td>17.0</td>\n",
       "    </tr>\n",
       "  </tbody>\n",
       "</table>\n",
       "<p>5 rows × 23 columns</p>\n",
       "</div>"
      ],
      "text/plain": [
       "   leaid_num    leaid  year          lea_name  fips  grade_edfacts  race  sex  \\\n",
       "0     100005  0100005  2017  Albertville City     1             99    99   99   \n",
       "1     100005  0100005  2017  Albertville City     1             99     5   99   \n",
       "2     100005  0100005  2017  Albertville City     1             99     4   99   \n",
       "3     100005  0100005  2017  Albertville City     1             99     2   99   \n",
       "4     100005  0100005  2017  Albertville City     1             99    99   99   \n",
       "\n",
       "   lep  homeless  ...  foster_care  military_connected  read_test_num_valid  \\\n",
       "0   99        99  ...           99                  99               2885.0   \n",
       "1   99        99  ...           99                  99                  5.0   \n",
       "2   99        99  ...           99                  99                 18.0   \n",
       "3   99        99  ...           99                  99                 98.0   \n",
       "4   99        99  ...           99                  99                197.0   \n",
       "\n",
       "   read_test_pct_prof_low  read_test_pct_prof_high  read_test_pct_prof_midpt  \\\n",
       "0                    38.0                     38.0                      38.0   \n",
       "1                    -3.0                     -3.0                      -3.0   \n",
       "2                    40.0                     59.0                      49.5   \n",
       "3                    30.0                     34.0                      32.0   \n",
       "4                    15.0                     19.0                      17.0   \n",
       "\n",
       "   math_test_num_valid  math_test_pct_prof_low  math_test_pct_prof_high  \\\n",
       "0               2892.0                    45.0                     45.0   \n",
       "1                  5.0                    -3.0                     -3.0   \n",
       "2                 18.0                    60.0                     79.0   \n",
       "3                 98.0                    30.0                     34.0   \n",
       "4                196.0                    15.0                     19.0   \n",
       "\n",
       "   math_test_pct_prof_midpt  \n",
       "0                      45.0  \n",
       "1                      -3.0  \n",
       "2                      69.5  \n",
       "3                      32.0  \n",
       "4                      17.0  \n",
       "\n",
       "[5 rows x 23 columns]"
      ]
     },
     "execution_count": 19,
     "metadata": {},
     "output_type": "execute_result"
    }
   ],
   "source": [
    "# Get all files\n",
    "pattern = re.compile(r'^districts_edfacts_assessments_20')\n",
    "file_names = [file for file in files if re.match(pattern, file)]\n",
    "\n",
    "# Read all files into a DataFrame\n",
    "df_ts = []\n",
    "for file in file_names:\n",
    "    f = pd.read_csv(path+'/'+file, dtype={'leaid':'str'})\n",
    "    df_ts.append(f)\n",
    "df_ts = pd.concat(df_ts, ignore_index = True)\n",
    "df_ts.head()"
   ]
  },
  {
   "cell_type": "code",
   "execution_count": 20,
   "metadata": {},
   "outputs": [],
   "source": [
    "df_ts = df_ts.drop(['leaid_num', 'lea_name', 'fips',\n",
    "              'read_test_pct_prof_low','read_test_pct_prof_high','read_test_pct_prof_midpt',\n",
    "             'math_test_pct_prof_low', 'math_test_pct_prof_high', 'math_test_pct_prof_midpt'], axis = 1)\n",
    "df_ts = df_ts.dropna(axis = 0)"
   ]
  },
  {
   "cell_type": "code",
   "execution_count": 21,
   "metadata": {},
   "outputs": [
    {
     "data": {
      "text/plain": [
       "leaid                  0\n",
       "year                   0\n",
       "grade_edfacts          0\n",
       "race                   0\n",
       "sex                    0\n",
       "lep                    0\n",
       "homeless               0\n",
       "migrant                0\n",
       "disability             0\n",
       "econ_disadvantaged     0\n",
       "foster_care            0\n",
       "military_connected     0\n",
       "read_test_num_valid    0\n",
       "math_test_num_valid    0\n",
       "dtype: int64"
      ]
     },
     "execution_count": 21,
     "metadata": {},
     "output_type": "execute_result"
    }
   ],
   "source": [
    "df_ts.isna().sum()"
   ]
  },
  {
   "cell_type": "code",
   "execution_count": 22,
   "metadata": {},
   "outputs": [
    {
     "data": {
      "text/plain": [
       "0"
      ]
     },
     "execution_count": 22,
     "metadata": {},
     "output_type": "execute_result"
    }
   ],
   "source": [
    "df_ts.duplicated().sum()"
   ]
  },
  {
   "cell_type": "code",
   "execution_count": 23,
   "metadata": {},
   "outputs": [],
   "source": [
    "df_ts.to_csv('../data/derived/districts_test_score_transformed.csv', index = False)"
   ]
  },
  {
   "cell_type": "markdown",
   "metadata": {},
   "source": [
    "## District Info"
   ]
  },
  {
   "cell_type": "code",
   "execution_count": 24,
   "metadata": {
    "scrolled": true
   },
   "outputs": [
    {
     "data": {
      "text/html": [
       "<div>\n",
       "<style scoped>\n",
       "    .dataframe tbody tr th:only-of-type {\n",
       "        vertical-align: middle;\n",
       "    }\n",
       "\n",
       "    .dataframe tbody tr th {\n",
       "        vertical-align: top;\n",
       "    }\n",
       "\n",
       "    .dataframe thead th {\n",
       "        text-align: right;\n",
       "    }\n",
       "</style>\n",
       "<table border=\"1\" class=\"dataframe\">\n",
       "  <thead>\n",
       "    <tr style=\"text-align: right;\">\n",
       "      <th></th>\n",
       "      <th>district_id</th>\n",
       "      <th>district_name</th>\n",
       "      <th>est_population_total</th>\n",
       "      <th>est_population_5_17</th>\n",
       "      <th>est_population_5_17_poverty</th>\n",
       "      <th>year</th>\n",
       "      <th>leaid</th>\n",
       "      <th>fips</th>\n",
       "      <th>est_population_5_17_poverty_pct</th>\n",
       "      <th>est_population_5_17_pct</th>\n",
       "    </tr>\n",
       "  </thead>\n",
       "  <tbody>\n",
       "    <tr>\n",
       "      <th>0</th>\n",
       "      <td>5</td>\n",
       "      <td>ALBERTVILLE CITY SCH DIST</td>\n",
       "      <td>16294</td>\n",
       "      <td>2779</td>\n",
       "      <td>506</td>\n",
       "      <td>1995</td>\n",
       "      <td>0100005</td>\n",
       "      <td>1</td>\n",
       "      <td>0.182080</td>\n",
       "      <td>0.170554</td>\n",
       "    </tr>\n",
       "    <tr>\n",
       "      <th>1</th>\n",
       "      <td>30</td>\n",
       "      <td>ALEXANDER CITY CITY SCH DIST</td>\n",
       "      <td>17704</td>\n",
       "      <td>3258</td>\n",
       "      <td>850</td>\n",
       "      <td>1995</td>\n",
       "      <td>0100030</td>\n",
       "      <td>1</td>\n",
       "      <td>0.260896</td>\n",
       "      <td>0.184026</td>\n",
       "    </tr>\n",
       "    <tr>\n",
       "      <th>2</th>\n",
       "      <td>60</td>\n",
       "      <td>ANDALUSIA CITY SCH DIST</td>\n",
       "      <td>9602</td>\n",
       "      <td>1706</td>\n",
       "      <td>571</td>\n",
       "      <td>1995</td>\n",
       "      <td>0100060</td>\n",
       "      <td>1</td>\n",
       "      <td>0.334701</td>\n",
       "      <td>0.177671</td>\n",
       "    </tr>\n",
       "    <tr>\n",
       "      <th>3</th>\n",
       "      <td>90</td>\n",
       "      <td>ANNISTON CITY SCH DIST</td>\n",
       "      <td>27394</td>\n",
       "      <td>4907</td>\n",
       "      <td>2015</td>\n",
       "      <td>1995</td>\n",
       "      <td>0100090</td>\n",
       "      <td>1</td>\n",
       "      <td>0.410638</td>\n",
       "      <td>0.179127</td>\n",
       "    </tr>\n",
       "    <tr>\n",
       "      <th>4</th>\n",
       "      <td>100</td>\n",
       "      <td>ARAB CITY SCH DIST</td>\n",
       "      <td>7984</td>\n",
       "      <td>1299</td>\n",
       "      <td>223</td>\n",
       "      <td>1995</td>\n",
       "      <td>0100100</td>\n",
       "      <td>1</td>\n",
       "      <td>0.171671</td>\n",
       "      <td>0.162700</td>\n",
       "    </tr>\n",
       "  </tbody>\n",
       "</table>\n",
       "</div>"
      ],
      "text/plain": [
       "   district_id                 district_name  est_population_total  \\\n",
       "0            5     ALBERTVILLE CITY SCH DIST                 16294   \n",
       "1           30  ALEXANDER CITY CITY SCH DIST                 17704   \n",
       "2           60       ANDALUSIA CITY SCH DIST                  9602   \n",
       "3           90        ANNISTON CITY SCH DIST                 27394   \n",
       "4          100            ARAB CITY SCH DIST                  7984   \n",
       "\n",
       "   est_population_5_17  est_population_5_17_poverty  year    leaid  fips  \\\n",
       "0                 2779                          506  1995  0100005     1   \n",
       "1                 3258                          850  1995  0100030     1   \n",
       "2                 1706                          571  1995  0100060     1   \n",
       "3                 4907                         2015  1995  0100090     1   \n",
       "4                 1299                          223  1995  0100100     1   \n",
       "\n",
       "   est_population_5_17_poverty_pct  est_population_5_17_pct  \n",
       "0                         0.182080                 0.170554  \n",
       "1                         0.260896                 0.184026  \n",
       "2                         0.334701                 0.177671  \n",
       "3                         0.410638                 0.179127  \n",
       "4                         0.171671                 0.162700  "
      ]
     },
     "execution_count": 24,
     "metadata": {},
     "output_type": "execute_result"
    }
   ],
   "source": [
    "df_dist = pd.read_csv(path+'/districts_saipe.csv', dtype = {'leaid':'str'})\n",
    "df_dist.head()"
   ]
  },
  {
   "cell_type": "code",
   "execution_count": 25,
   "metadata": {},
   "outputs": [
    {
     "data": {
      "text/plain": [
       "district_id                        0\n",
       "district_name                      0\n",
       "est_population_total               0\n",
       "est_population_5_17                0\n",
       "est_population_5_17_poverty        0\n",
       "year                               0\n",
       "leaid                              0\n",
       "fips                               0\n",
       "est_population_5_17_poverty_pct    0\n",
       "est_population_5_17_pct            0\n",
       "dtype: int64"
      ]
     },
     "execution_count": 25,
     "metadata": {},
     "output_type": "execute_result"
    }
   ],
   "source": [
    "df_dist['est_population_5_17_poverty_pct'] = df_dist['est_population_5_17_poverty_pct'].fillna(0)\n",
    "df_dist['est_population_5_17_pct'] = df_dist['est_population_5_17_pct'].fillna(0)\n",
    "df_dist.isna().sum()"
   ]
  },
  {
   "cell_type": "code",
   "execution_count": 26,
   "metadata": {},
   "outputs": [
    {
     "data": {
      "text/plain": [
       "0"
      ]
     },
     "execution_count": 26,
     "metadata": {},
     "output_type": "execute_result"
    }
   ],
   "source": [
    "df_dist.duplicated().sum()"
   ]
  },
  {
   "cell_type": "code",
   "execution_count": 27,
   "metadata": {},
   "outputs": [],
   "source": [
    "df_dist.to_csv('../data/derived/districts_saipe_transformed.csv', index = False)"
   ]
  },
  {
   "cell_type": "markdown",
   "metadata": {},
   "source": [
    "## Part 2: Create the database\n",
    "\n",
    "Create your database here. Save it to `./../data/derived/district_data.db`"
   ]
  },
  {
   "cell_type": "code",
   "execution_count": 28,
   "metadata": {},
   "outputs": [
    {
     "name": "stdout",
     "output_type": "stream",
     "text": [
      "(1989, '0000000', 663678000.0, 0.0, 114, 657718000.0, 41057000.0, 37150, 0)\n",
      "(1989, '0100005', 12933000.0, 0.0, 1, 11703000.0, 1570000.0, 3120, 0)\n",
      "(1989, '0100006', 19699000.0, 0.0, 1, 22140000.0, 3734000.0, 5511, 0)\n",
      "(1989, '0100007', 25090000.0, 0.0, 1, 31101000.0, 5618000.0, 5879, 0)\n",
      "(1989, '0100030', 12431000.0, 0.0, 1, 12079000.0, 979000.0, 3797, 0)\n"
     ]
    }
   ],
   "source": [
    "### YOUR CODE HERE\n",
    "import sqlite3\n",
    "import csv\n",
    "\n",
    "# Path to the CSV file\n",
    "finance_file = '../data/derived/districts_ccd_finance_transformed.csv'\n",
    "race_file = '../data/derived/districts_race_transformed.csv'\n",
    "grade_file = '../data/derived/districts_grade_transformed.csv'\n",
    "sex_file = '../data/derived/districts_sex_transformed.csv'\n",
    "testscore_file = '../data/derived/districts_test_score_transformed.csv'\n",
    "dist_file = '../data/derived/districts_saipe_transformed.csv'\n",
    "\n",
    "# Path to the SQLite database file\n",
    "db_file = '../data/derived/district_data.db'\n",
    "\n",
    "# Connect to the SQLite database\n",
    "conn = sqlite3.connect(db_file)\n",
    "cursor = conn.cursor()\n",
    "\n",
    "# FINANCE\n",
    "# Create a table to store the data\n",
    "cursor.execute('''CREATE TABLE IF NOT EXISTS district_finance (\n",
    "                    year INTEGER,\n",
    "                    leaid VARCHAR(7),\n",
    "                    rev_total FLOAT,\n",
    "                    rev_local_private_contrib FLOAT,\n",
    "                    num_district INTEGER,\n",
    "                    exp_total   FLOAT,\n",
    "                    outlay_capital_total FLOAT, \n",
    "                    enrollment_fall_responsible INTEGER,\n",
    "                    enrollment_fall_school INTEGER                    \n",
    "                  )''')\n",
    "\n",
    "# Read the CSV file and insert data into the database\n",
    "with open(finance_file, 'r') as file:\n",
    "    csv_reader = csv.reader(file)\n",
    "    next(csv_reader)  # Skip the header row\n",
    "    for row in csv_reader:\n",
    "        cursor.execute('INSERT INTO district_finance (year, leaid, rev_total, rev_local_private_contrib, num_district, exp_total, outlay_capital_total, enrollment_fall_responsible,enrollment_fall_school) VALUES (?, ?, ?, ?, ?,?,?,?,?)', row)\n",
    "\n",
    "#RACE\n",
    "cursor.execute('''CREATE TABLE IF NOT EXISTS district_race (\n",
    "                    year INTEGER,\n",
    "                    leaid VARCHAR(7),\n",
    "                    race INTEGER,\n",
    "                    enrollment INTEGER\n",
    "                  )''')\n",
    "\n",
    "# Read the CSV file and insert data into the database\n",
    "with open(race_file, 'r') as file:\n",
    "    csv_reader = csv.reader(file)\n",
    "    next(csv_reader)  # Skip the header row\n",
    "    for row in csv_reader:\n",
    "        cursor.execute('INSERT INTO district_race (year, leaid, race, enrollment) VALUES (?, ?, ?, ?)', row)\n",
    "\n",
    "#GRADE\n",
    "cursor.execute('''CREATE TABLE IF NOT EXISTS district_grade (\n",
    "                    year INTEGER,\n",
    "                    leaid VARCHAR(7),\n",
    "                    grade INTEGER,\n",
    "                    enrollment INTEGER\n",
    "                  )''')\n",
    "\n",
    "# Read the CSV file and insert data into the database\n",
    "with open(grade_file, 'r') as file:\n",
    "    csv_reader = csv.reader(file)\n",
    "    next(csv_reader)  # Skip the header row\n",
    "    for row in csv_reader:\n",
    "        cursor.execute('INSERT INTO district_grade (year, leaid, grade, enrollment) VALUES (?, ?, ?, ?)', row)\n",
    "\n",
    "#GENDER\n",
    "cursor.execute('''CREATE TABLE IF NOT EXISTS district_sex (\n",
    "                    year INTEGER,\n",
    "                    leaid VARCHAR(7),\n",
    "                    sex INTEGER,\n",
    "                    enrollment INTEGER\n",
    "                  )''')\n",
    "\n",
    "# Read the CSV file and insert data into the database\n",
    "with open(sex_file, 'r') as file:\n",
    "    csv_reader = csv.reader(file)\n",
    "    next(csv_reader)  # Skip the header row\n",
    "    for row in csv_reader:\n",
    "        cursor.execute('INSERT INTO district_sex (year, leaid, sex, enrollment) VALUES (?, ?, ?, ?)', row)\n",
    "\n",
    "#TEST SCORE\n",
    "cursor.execute('''CREATE TABLE IF NOT EXISTS district_testscores (\n",
    "                    leaid  VARCHAR(7),\n",
    "                    year INTEGER,\n",
    "                    grade_edfacts INTEGER,\n",
    "                    race INTEGER,\n",
    "                    sex INTEGER,\n",
    "                    lep INTEGER,\n",
    "                    homeless INTEGER,\n",
    "                    migrant INTEGER,\n",
    "                    disability INTEGER,\n",
    "                    econ_disadvantaged INTEGER,\n",
    "                    foster_care INTEGER,\n",
    "                    military_connected INTEGER,\n",
    "                    read_test_num_valid INTEGER,\n",
    "                    math_test_num_valid INTEGER\n",
    "                  )''')\n",
    "\n",
    "# Read the CSV file and insert data into the database\n",
    "with open(testscore_file, 'r') as file:\n",
    "    csv_reader = csv.reader(file)\n",
    "    next(csv_reader)  # Skip the header row\n",
    "    for row in csv_reader:\n",
    "        cursor.execute('''INSERT INTO district_testscores (leaid, year, grade_edfacts, race ,\n",
    "                    sex, lep, homeless, migrant ,\n",
    "                    disability ,\n",
    "                    econ_disadvantaged ,\n",
    "                    foster_care ,\n",
    "                    military_connected ,\n",
    "                    read_test_num_valid ,\n",
    "                    math_test_num_valid ) VALUES (?, ?, ?, ?,?,?,?,?,?,?,?,?,?,?)''', row)\n",
    "\n",
    "#POPULATION\n",
    "cursor.execute('''CREATE TABLE IF NOT EXISTS district_pop (district_id INTEGER, \n",
    "district_name VARCHAR(128), est_population_total INTERGER, est_population_5_17  INTEGER,\n",
    "est_population_5_17_poverty INTEGER, year INTEGER, leaid VARCHAR(7), fips INTEGER, \n",
    "est_population_5_17_poverty_pct FLOAT, est_population_5_17_pct FLOAT)''')\n",
    "\n",
    "# Read the CSV file and insert data into the database\n",
    "with open(dist_file, 'r') as file:\n",
    "    csv_reader = csv.reader(file)\n",
    "    next(csv_reader)  # Skip the header row\n",
    "    for row in csv_reader:\n",
    "        cursor.execute('''INSERT INTO district_pop (district_id, district_name,\n",
    "                                                            est_population_total,\n",
    "                                                            est_population_5_17,\n",
    "                                                            est_population_5_17_poverty,\n",
    "                                                            year, leaid, fips,\n",
    "                                                            est_population_5_17_poverty_pct,\n",
    "                                                            est_population_5_17_pct ) VALUES (?, ?, ?, ?,?,?,?,?,?,?)''', row)\n",
    "        \n",
    "# Commit the changes and close the connection\n",
    "conn.commit()\n",
    "conn.close()\n",
    "\n",
    "# Confirm data has been loaded by reading from the database\n",
    "conn = sqlite3.connect(db_file)\n",
    "cursor = conn.cursor()\n",
    "cursor.execute('SELECT * FROM district_finance LIMIT 5')\n",
    "rows = cursor.fetchall()\n",
    "for row in rows:\n",
    "    print(row)\n",
    "\n",
    "conn.close()"
   ]
  },
  {
   "cell_type": "markdown",
   "metadata": {},
   "source": [
    "## Part 3: Query database\n",
    "\n",
    "```\n",
    "# How many students were enrolled in leaid 0100006 in 2017?\n",
    "\n",
    "database_path = './../data/derived/district_data.db'\n",
    "conn = sqlite3.connect(database_path)\n",
    "query = \"\"\"\n",
    "SELECT \n",
    "    p.leaid, \n",
    "    p.district_name,\n",
    "    p.fips,\n",
    "    f.enrollment_fall_school AS enrollment\n",
    "FROM \n",
    "    district_pop p\n",
    "INNER JOIN \n",
    "    district_finance f ON p.leaid = f.leaid\n",
    "WHERE \n",
    "    p.leaid = '0100006'\n",
    "    AND f.year = 2017\n",
    "LIMIT 1;\n",
    "\"\"\"\n",
    "\n",
    "df_result = pd.read_sql_query(query, conn)\n",
    "conn.close()\n",
    "print(df_result)\n",
    "```\n",
    "| leaid | district_name | fips | enrollment |\n",
    "| - | - | - | - |\n",
    "| 100006 | Marshall County School District | 1 | 5662.0 |"
   ]
  },
  {
   "cell_type": "code",
   "execution_count": null,
   "metadata": {},
   "outputs": [
    {
     "name": "stdout",
     "output_type": "stream",
     "text": [
      "     leaid             district_name  fips  enrollment\n",
      "0  0100006  MARSHALL COUNTY SCH DIST     1        5662\n"
     ]
    }
   ],
   "source": [
    "# How many students were enrolled in leaid 0100006 in 2017?\n",
    "database_path = './../data/derived/district_data.db'\n",
    "conn = sqlite3.connect(database_path)\n",
    "query = \"\"\"\n",
    "SELECT \n",
    "    p.leaid, \n",
    "    p.district_name,\n",
    "    p.fips,\n",
    "    f.enrollment_fall_school AS enrollment\n",
    "FROM \n",
    "    district_pop p\n",
    "INNER JOIN \n",
    "    district_finance f ON p.leaid = f.leaid\n",
    "WHERE \n",
    "    p.leaid = '0100006'\n",
    "    AND f.year = 2017\n",
    "LIMIT 1;\n",
    "\"\"\"\n",
    "\n",
    "df_result = pd.read_sql_query(query, conn)\n",
    "conn.close()\n",
    "print(df_result)\n",
    "\n"
   ]
  },
  {
   "cell_type": "code",
   "execution_count": 30,
   "metadata": {},
   "outputs": [
    {
     "name": "stdout",
     "output_type": "stream",
     "text": [
      "     leaid             district_name  fips  enrollment\n",
      "0  0100006  MARSHALL COUNTY SCH DIST     1        5662\n"
     ]
    }
   ],
   "source": [
    "# what is the district with the highest ratio of white students to black students in third grade in year 2021?\n",
    "database_path = './../data/derived/district_data.db'\n",
    "conn = sqlite3.connect(database_path)\n",
    "query = \"\"\"\n",
    "SELECT \n",
    "    p.leaid, \n",
    "    p.district_name,\n",
    "    p.fips,\n",
    "    f.enrollment_fall_school AS enrollment\n",
    "FROM \n",
    "    district_pop p\n",
    "INNER JOIN \n",
    "    district_finance f ON p.leaid = f.leaid\n",
    "WHERE \n",
    "    p.leaid = '0100006'\n",
    "    AND f.year = 2017\n",
    "LIMIT 1;\n",
    "\"\"\"\n",
    "\n",
    "df_result = pd.read_sql_query(query, conn)\n",
    "conn.close()\n",
    "print(df_result)\n",
    "### YOUR CODE HERE"
   ]
  },
  {
   "cell_type": "code",
   "execution_count": 31,
   "metadata": {},
   "outputs": [
    {
     "name": "stdout",
     "output_type": "stream",
     "text": [
      "Empty DataFrame\n",
      "Columns: [leaid, district_name, fips, rev_total]\n",
      "Index: []\n"
     ]
    }
   ],
   "source": [
    "# What district brought in the most revenue in 2021? (\"rev_total\")\n",
    "database_path = './../data/derived/district_data.db'\n",
    "conn = sqlite3.connect(database_path)\n",
    "query = \"\"\"\n",
    "SELECT \n",
    "    p.leaid, \n",
    "    p.district_name,\n",
    "    p.fips,\n",
    "    sum(f.rev_total) rev_total\n",
    "FROM \n",
    "    district_pop p\n",
    "INNER JOIN \n",
    "    district_finance f ON p.leaid = f.leaid\n",
    "WHERE \n",
    "    f.year = 2021\n",
    "GROUP BY \n",
    "    p.leaid, \n",
    "    p.district_name,\n",
    "    p.fips\n",
    "ORDER BY rev_total DESC\n",
    "LIMIT 1;\n",
    "\"\"\"\n",
    "\n",
    "df_result = pd.read_sql_query(query, conn)\n",
    "conn.close()\n",
    "print(df_result)\n"
   ]
  },
  {
   "cell_type": "markdown",
   "metadata": {},
   "source": [
    "Finance Data goes up until 2018"
   ]
  },
  {
   "cell_type": "code",
   "execution_count": 32,
   "metadata": {},
   "outputs": [
    {
     "name": "stdout",
     "output_type": "stream",
     "text": [
      "     leaid                          district_name  fips     rev_total\n",
      "0  3620580  New York City Department Of Education    36  1.757003e+12\n"
     ]
    }
   ],
   "source": [
    "# What district brought in the most revenue in 2018? (\"rev_total\")\n",
    "database_path = './../data/derived/district_data.db'\n",
    "conn = sqlite3.connect(database_path)\n",
    "query = \"\"\"\n",
    "SELECT \n",
    "    p.leaid, \n",
    "    p.district_name,\n",
    "    p.fips,\n",
    "    sum(f.rev_total) rev_total\n",
    "FROM \n",
    "    district_pop p\n",
    "INNER JOIN \n",
    "    district_finance f ON p.leaid = f.leaid\n",
    "WHERE \n",
    "    f.year = 2018\n",
    "GROUP BY \n",
    "    p.leaid, \n",
    "    p.district_name,\n",
    "    p.fips\n",
    "ORDER BY rev_total DESC\n",
    "LIMIT 1;\n",
    "\"\"\"\n",
    "\n",
    "df_result = pd.read_sql_query(query, conn)\n",
    "conn.close()\n",
    "print(df_result)\n"
   ]
  },
  {
   "cell_type": "code",
   "execution_count": 33,
   "metadata": {},
   "outputs": [
    {
     "name": "stdout",
     "output_type": "stream",
     "text": [
      "     leaid                  district_name  fips  delta\n",
      "0  1201440  ORANGE COUNTY SCHOOL DISTRICT    12  14812\n"
     ]
    }
   ],
   "source": [
    "# what district has the greatest delta between the number of students deemed proficient in reading versus math? (read_test_num_valid, math_test_num_valid)\n",
    "database_path = './../data/derived/district_data.db'\n",
    "conn = sqlite3.connect(database_path)\n",
    "query = \"\"\"\n",
    "SELECT \n",
    "    p.leaid, \n",
    "    p.district_name,\n",
    "    p.fips,\n",
    "    t.read_test_num_valid - t.math_test_num_valid delta\n",
    "FROM \n",
    "    district_pop p\n",
    "INNER JOIN \n",
    "    district_testscores t ON p.leaid = t.leaid\n",
    "ORDER BY delta DESC\n",
    "LIMIT 1;\n",
    "\"\"\"\n",
    "\n",
    "df_result = pd.read_sql_query(query, conn)\n",
    "conn.close()\n",
    "print(df_result)\n",
    "### YOUR CODE HERE\n"
   ]
  },
  {
   "cell_type": "code",
   "execution_count": 34,
   "metadata": {},
   "outputs": [
    {
     "name": "stdout",
     "output_type": "stream",
     "text": [
      "   average_rev_local_private_contributions\n",
      "0                                145451.51\n"
     ]
    }
   ],
   "source": [
    "# What is the mean amount of private contributions for a district to collect? (\"rev_local_private_contrib\")\n",
    "# just print the mean. There won't be an leaid, district_name, or fips id.\n",
    "database_path = './../data/derived/district_data.db'\n",
    "conn = sqlite3.connect(database_path)\n",
    "query = \"\"\"\n",
    "SELECT \n",
    "    ROUND(AVG(rev_local_private_contrib),2) average_rev_local_private_contributions\n",
    "FROM \n",
    "    district_finance\n",
    "WHERE \n",
    "    rev_local_private_contrib > 0;\n",
    "\"\"\"\n",
    "\n",
    "df_result = pd.read_sql_query(query, conn)\n",
    "conn.close()\n",
    "print(df_result)\n",
    "### YOUR CODE HERE"
   ]
  }
 ],
 "metadata": {
  "kernelspec": {
   "display_name": "Python 3 (ipykernel)",
   "language": "python",
   "name": "python3"
  },
  "language_info": {
   "codemirror_mode": {
    "name": "ipython",
    "version": 3
   },
   "file_extension": ".py",
   "mimetype": "text/x-python",
   "name": "python",
   "nbconvert_exporter": "python",
   "pygments_lexer": "ipython3",
   "version": "3.9.12"
  }
 },
 "nbformat": 4,
 "nbformat_minor": 2
}
